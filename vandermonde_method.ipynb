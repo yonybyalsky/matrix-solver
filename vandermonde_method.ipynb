{
 "cells": [
  {
   "cell_type": "code",
   "execution_count": 12,
   "id": "20dcc47f",
   "metadata": {},
   "outputs": [],
   "source": [
    "import numpy as np"
   ]
  },
  {
   "cell_type": "code",
   "execution_count": 15,
   "id": "4640b29d",
   "metadata": {
    "scrolled": true
   },
   "outputs": [
    {
     "ename": "ModuleNotFoundError",
     "evalue": "No module named 'gauess_method_function'",
     "output_type": "error",
     "traceback": [
      "\u001b[1;31m---------------------------------------------------------------------------\u001b[0m",
      "\u001b[1;31mModuleNotFoundError\u001b[0m                       Traceback (most recent call last)",
      "\u001b[1;32m~\\AppData\\Local\\Temp/ipykernel_4840/2257785781.py\u001b[0m in \u001b[0;36m<module>\u001b[1;34m\u001b[0m\n\u001b[1;32m----> 1\u001b[1;33m \u001b[1;32mfrom\u001b[0m \u001b[0mgauess_method_function\u001b[0m \u001b[1;32mimport\u001b[0m \u001b[0mgauess_method\u001b[0m\u001b[1;33m\u001b[0m\u001b[1;33m\u001b[0m\u001b[0m\n\u001b[0m",
      "\u001b[1;31mModuleNotFoundError\u001b[0m: No module named 'gauess_method_function'"
     ]
    }
   ],
   "source": [
    "from gauess_method_function import gauess_method"
   ]
  },
  {
   "cell_type": "code",
   "execution_count": 7,
   "id": "48ff240a",
   "metadata": {},
   "outputs": [],
   "source": [
    "def create_vandermonde(points):\n",
    "    matrix_size = len(points) \n",
    "    matrix = np.empty((matrix_size, matrix_size + 1))\n",
    "    powders = np.arange(matrix_size)\n",
    "    for row in range(matrix_size):\n",
    "        x, y = points[row]\n",
    "        matrix[row, :-1] = x**powders\n",
    "        matrix[row, -1] = y\n",
    "    return matrix"
   ]
  },
  {
   "cell_type": "code",
   "execution_count": 8,
   "id": "e6fec409",
   "metadata": {},
   "outputs": [
    {
     "name": "stdout",
     "output_type": "stream",
     "text": [
      "[[ 1.          0.          0.          0.          0.        ]\n",
      " [ 1.          1.57079633  2.4674011   3.87578459  1.        ]\n",
      " [ 1.          3.14159265  9.8696044  31.00627668  0.        ]\n",
      " [ 1.          0.78539816  0.61685028  0.48447307  0.70710678]]\n"
     ]
    }
   ],
   "source": [
    "point_list = [[0, 0],[np.pi/2, 1], [np.pi, 0], [np.pi/4, 1/2**0.5]]\n",
    "parabola_matrix = create_vandermonde(point_list)\n",
    "print(parabola_matrix)"
   ]
  },
  {
   "cell_type": "code",
   "execution_count": 9,
   "id": "86babe81",
   "metadata": {},
   "outputs": [
    {
     "ename": "NameError",
     "evalue": "name 'gauess_method' is not defined",
     "output_type": "error",
     "traceback": [
      "\u001b[1;31m---------------------------------------------------------------------------\u001b[0m",
      "\u001b[1;31mNameError\u001b[0m                                 Traceback (most recent call last)",
      "\u001b[1;32m~\\AppData\\Local\\Temp/ipykernel_4840/1377759340.py\u001b[0m in \u001b[0;36m<module>\u001b[1;34m\u001b[0m\n\u001b[1;32m----> 1\u001b[1;33m \u001b[0mgauess_method\u001b[0m\u001b[1;33m(\u001b[0m\u001b[0mparabola_matrix\u001b[0m\u001b[1;33m)\u001b[0m\u001b[1;33m\u001b[0m\u001b[1;33m\u001b[0m\u001b[0m\n\u001b[0m",
      "\u001b[1;31mNameError\u001b[0m: name 'gauess_method' is not defined"
     ]
    }
   ],
   "source": [
    "gauess_method(parabola_matrix)"
   ]
  },
  {
   "cell_type": "code",
   "execution_count": null,
   "id": "59c12394",
   "metadata": {},
   "outputs": [],
   "source": []
  }
 ],
 "metadata": {
  "kernelspec": {
   "display_name": "Python 3 (ipykernel)",
   "language": "python",
   "name": "python3"
  },
  "language_info": {
   "codemirror_mode": {
    "name": "ipython",
    "version": 3
   },
   "file_extension": ".py",
   "mimetype": "text/x-python",
   "name": "python",
   "nbconvert_exporter": "python",
   "pygments_lexer": "ipython3",
   "version": "3.10.0"
  }
 },
 "nbformat": 4,
 "nbformat_minor": 5
}
