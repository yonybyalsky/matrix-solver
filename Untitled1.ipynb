{
 "cells": [
  {
   "cell_type": "code",
   "execution_count": 1,
   "id": "03b51eb7",
   "metadata": {},
   "outputs": [],
   "source": [
    "import numpy as np"
   ]
  },
  {
   "cell_type": "code",
   "execution_count": 20,
   "id": "078a0081",
   "metadata": {},
   "outputs": [
    {
     "name": "stdout",
     "output_type": "stream",
     "text": [
      "[[ 1.  1.  1. 25.]\n",
      " [ 5.  3.  2.  0.]\n",
      " [ 0.  1. -1.  6.]]\n",
      "[[  1.    0.    0.  -26.2]\n",
      " [  0.    1.    0.   28.6]\n",
      " [ -0.   -0.    1.   22.6]]\n"
     ]
    }
   ],
   "source": [
    "def gauess_method(matrix):\n",
    "    row = 0\n",
    "    while row <= len(matrix) - 1:\n",
    "        matrix[row] *= (1 / matrix[row][row])\n",
    "        another_row = 0\n",
    "        while another_row <= len(matrix) - 1:\n",
    "            if another_row != row and matrix[another_row][row] != 0:\n",
    "                matrix[another_row] -= (matrix[another_row][row] * matrix[row])  \n",
    "            another_row += 1\n",
    "        row += 1\n",
    "    return matrix\n",
    "arr = np.array([[1, 1, 1, 25], [5, 3, 2, 0], [0, 1, -1, 6]], float)\n",
    "print(arr)\n",
    "gauess_method(arr)\n",
    "print(arr) "
   ]
  },
  {
   "cell_type": "code",
   "execution_count": 21,
   "id": "d11f3252",
   "metadata": {},
   "outputs": [
    {
     "data": {
      "text/plain": [
       "25.000000000000004"
      ]
     },
     "execution_count": 21,
     "metadata": {},
     "output_type": "execute_result"
    }
   ],
   "source": [
    "-26.2 + 28.6 + 22.6"
   ]
  },
  {
   "cell_type": "code",
   "execution_count": null,
   "id": "a571b247",
   "metadata": {},
   "outputs": [],
   "source": [
    "5 * -26.2 + 28.6 * 3 + 2 * "
   ]
  }
 ],
 "metadata": {
  "kernelspec": {
   "display_name": "Python 3 (ipykernel)",
   "language": "python",
   "name": "python3"
  },
  "language_info": {
   "codemirror_mode": {
    "name": "ipython",
    "version": 3
   },
   "file_extension": ".py",
   "mimetype": "text/x-python",
   "name": "python",
   "nbconvert_exporter": "python",
   "pygments_lexer": "ipython3",
   "version": "3.10.0"
  }
 },
 "nbformat": 4,
 "nbformat_minor": 5
}
