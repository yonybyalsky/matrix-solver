{
 "cells": [
  {
   "cell_type": "code",
   "execution_count": 1,
   "id": "e439ab54",
   "metadata": {},
   "outputs": [],
   "source": [
    "import numpy as np"
   ]
  },
  {
   "cell_type": "code",
   "execution_count": 2,
   "id": "ee94809c",
   "metadata": {},
   "outputs": [],
   "source": [
    "#This function find the row that 0 is not the first number in a spesific column and swap between the row with the 0 being \n",
    "#the first number and the row that the function found\n",
    "def swap_rows(matrix, row, column):\n",
    "    while row <= len(matrix) - 1:\n",
    "        if matrix[row][column] == 0:\n",
    "            another_row = row\n",
    "            while another_row <= len(matrix) - 1:\n",
    "                if matrix[another_row][column] != 0:\n",
    "                    matrix[[row, another_row]] = matrix[[another_row, row]]\n",
    "                another_row += 1\n",
    "        row += 1"
   ]
  },
  {
   "cell_type": "code",
   "execution_count": 3,
   "id": "443a14a6",
   "metadata": {},
   "outputs": [],
   "source": [
    "def gauess_method(matrix):\n",
    "    row = 0\n",
    "    while row <= len(matrix) - 1:\n",
    "        swap_rows(matrix, row, row)\n",
    "        matrix[row] *= (1 / matrix[row][row])\n",
    "        another_row = 0\n",
    "        while another_row <= len(matrix) - 1:\n",
    "            if another_row != row and matrix[another_row][row] != 0:\n",
    "                matrix[another_row] -= (matrix[another_row][row] * matrix[row]) \n",
    "            another_row += 1\n",
    "        row += 1\n",
    "    return matrix"
   ]
  },
  {
   "cell_type": "code",
   "execution_count": 4,
   "id": "f3502c35",
   "metadata": {},
   "outputs": [
    {
     "name": "stdout",
     "output_type": "stream",
     "text": [
      "[[ 1.          0.          0.          0.         -3.97607656]\n",
      " [-0.          1.          0.          0.         -5.284689  ]\n",
      " [ 0.          0.          1.          0.         11.73205742]\n",
      " [-0.         -0.         -0.          1.          5.75358852]]\n",
      "[[ 1.  0.  7.]\n",
      " [-0.  1.  1.]]\n"
     ]
    }
   ],
   "source": [
    "arr = np.array([[1, 8, 1, 6, 0], [2, 9, 1, 9, 8], [1, 1, 2, 13, 89], [8, 9, 9, 9, 78]], float)\n",
    "gauess_method(arr)\n",
    "print(arr) \n",
    "arr_2 = np.array([[2, 7, 21], [2, -4, 10]], float)\n",
    "gauess_method(arr_2)\n",
    "print(arr_2)"
   ]
  },
  {
   "cell_type": "code",
   "execution_count": 7,
   "id": "1bd8a01c",
   "metadata": {
    "scrolled": true
   },
   "outputs": [
    {
     "data": {
      "text/plain": [
       "array([[ 1.,  0.,  0., -1.],\n",
       "       [ 0.,  1.,  0.,  4.],\n",
       "       [-0., -0.,  1.,  3.]])"
      ]
     },
     "execution_count": 7,
     "metadata": {},
     "output_type": "execute_result"
    }
   ],
   "source": [
    "#we need the swap_rows function to this matrix for solving it\n",
    "err_array = np.array([[1, 1, 1, 6], [2, 2, 1, 9], [1, 2, 2, 13]], float)\n",
    "gauess_method(err_array)"
   ]
  },
  {
   "cell_type": "code",
   "execution_count": null,
   "id": "ab99604a",
   "metadata": {},
   "outputs": [],
   "source": []
  }
 ],
 "metadata": {
  "kernelspec": {
   "display_name": "Python 3 (ipykernel)",
   "language": "python",
   "name": "python3"
  },
  "language_info": {
   "codemirror_mode": {
    "name": "ipython",
    "version": 3
   },
   "file_extension": ".py",
   "mimetype": "text/x-python",
   "name": "python",
   "nbconvert_exporter": "python",
   "pygments_lexer": "ipython3",
   "version": "3.10.0"
  }
 },
 "nbformat": 4,
 "nbformat_minor": 5
}
